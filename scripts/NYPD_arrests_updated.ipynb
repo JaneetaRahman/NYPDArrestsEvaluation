{
 "cells": [
  {
   "cell_type": "code",
   "execution_count": 9,
   "id": "1a0db919-cd6e-4d5e-a951-38984eb587bf",
   "metadata": {},
   "outputs": [
    {
     "name": "stdout",
     "output_type": "stream",
     "text": [
      "Requirement already satisfied: azure-storage-blob in c:\\users\\raisa\\anaconda3\\lib\\site-packages (12.19.1)\n",
      "Requirement already satisfied: azure-core<2.0.0,>=1.28.0 in c:\\users\\raisa\\anaconda3\\lib\\site-packages (from azure-storage-blob) (1.30.1)\n",
      "Requirement already satisfied: cryptography>=2.1.4 in c:\\users\\raisa\\anaconda3\\lib\\site-packages (from azure-storage-blob) (42.0.2)\n",
      "Requirement already satisfied: typing-extensions>=4.3.0 in c:\\users\\raisa\\anaconda3\\lib\\site-packages (from azure-storage-blob) (4.9.0)\n",
      "Requirement already satisfied: isodate>=0.6.1 in c:\\users\\raisa\\anaconda3\\lib\\site-packages (from azure-storage-blob) (0.6.1)\n",
      "Requirement already satisfied: requests>=2.21.0 in c:\\users\\raisa\\anaconda3\\lib\\site-packages (from azure-core<2.0.0,>=1.28.0->azure-storage-blob) (2.31.0)\n",
      "Requirement already satisfied: six>=1.11.0 in c:\\users\\raisa\\anaconda3\\lib\\site-packages (from azure-core<2.0.0,>=1.28.0->azure-storage-blob) (1.16.0)\n",
      "Requirement already satisfied: cffi>=1.12 in c:\\users\\raisa\\anaconda3\\lib\\site-packages (from cryptography>=2.1.4->azure-storage-blob) (1.16.0)\n",
      "Requirement already satisfied: pycparser in c:\\users\\raisa\\anaconda3\\lib\\site-packages (from cffi>=1.12->cryptography>=2.1.4->azure-storage-blob) (2.21)\n",
      "Requirement already satisfied: charset-normalizer<4,>=2 in c:\\users\\raisa\\anaconda3\\lib\\site-packages (from requests>=2.21.0->azure-core<2.0.0,>=1.28.0->azure-storage-blob) (2.0.4)\n",
      "Requirement already satisfied: idna<4,>=2.5 in c:\\users\\raisa\\anaconda3\\lib\\site-packages (from requests>=2.21.0->azure-core<2.0.0,>=1.28.0->azure-storage-blob) (3.4)\n",
      "Requirement already satisfied: urllib3<3,>=1.21.1 in c:\\users\\raisa\\anaconda3\\lib\\site-packages (from requests>=2.21.0->azure-core<2.0.0,>=1.28.0->azure-storage-blob) (2.0.7)\n",
      "Requirement already satisfied: certifi>=2017.4.17 in c:\\users\\raisa\\anaconda3\\lib\\site-packages (from requests>=2.21.0->azure-core<2.0.0,>=1.28.0->azure-storage-blob) (2024.2.2)\n",
      "Note: you may need to restart the kernel to use updated packages.\n"
     ]
    }
   ],
   "source": [
    "pip install azure-storage-blob"
   ]
  },
  {
   "cell_type": "code",
   "execution_count": 10,
   "id": "57f14dce-c2af-456d-9b4a-06c415a35cc6",
   "metadata": {},
   "outputs": [],
   "source": [
    "import pandas as pd\n",
    "import numpy as np\n",
    "import json\n",
    "import requests\n",
    "from io import StringIO\n",
    "from azure.storage.blob import BlobServiceClient, BlobClient, ContainerClient"
   ]
  },
  {
   "cell_type": "code",
   "execution_count": 11,
   "id": "06546359-847d-49dd-8ec3-7088a294e877",
   "metadata": {},
   "outputs": [],
   "source": [
    "df_raw = pd.read_csv(\"C:\\\\Users\\\\raisa\\\\Downloads\\\\NYPD_Arrest_Data__Year_to_Date__20240410.csv\")"
   ]
  },
  {
   "cell_type": "code",
   "execution_count": 12,
   "id": "ae7c1112-552b-41ce-95fc-ce7bde02fb58",
   "metadata": {},
   "outputs": [
    {
     "name": "stdout",
     "output_type": "stream",
     "text": [
      "<class 'pandas.core.frame.DataFrame'>\n",
      "RangeIndex: 226872 entries, 0 to 226871\n",
      "Data columns (total 19 columns):\n",
      " #   Column                    Non-Null Count   Dtype  \n",
      "---  ------                    --------------   -----  \n",
      " 0   ARREST_KEY                226872 non-null  int64  \n",
      " 1   ARREST_DATE               226872 non-null  object \n",
      " 2   PD_CD                     226870 non-null  float64\n",
      " 3   PD_DESC                   226872 non-null  object \n",
      " 4   KY_CD                     226855 non-null  float64\n",
      " 5   OFNS_DESC                 226872 non-null  object \n",
      " 6   LAW_CODE                  226872 non-null  object \n",
      " 7   LAW_CAT_CD                225273 non-null  object \n",
      " 8   ARREST_BORO               226872 non-null  object \n",
      " 9   ARREST_PRECINCT           226872 non-null  int64  \n",
      " 10  JURISDICTION_CODE         226872 non-null  int64  \n",
      " 11  AGE_GROUP                 226872 non-null  object \n",
      " 12  PERP_SEX                  226872 non-null  object \n",
      " 13  PERP_RACE                 226872 non-null  object \n",
      " 14  X_COORD_CD                226872 non-null  int64  \n",
      " 15  Y_COORD_CD                226872 non-null  int64  \n",
      " 16  Latitude                  226872 non-null  float64\n",
      " 17  Longitude                 226872 non-null  float64\n",
      " 18  New Georeferenced Column  226872 non-null  object \n",
      "dtypes: float64(4), int64(5), object(10)\n",
      "memory usage: 32.9+ MB\n",
      "None\n",
      "(226872, 19)\n"
     ]
    }
   ],
   "source": [
    "df_raw.head()\n",
    "print(df_raw.info())\n",
    "print(df_raw.shape)"
   ]
  },
  {
   "cell_type": "code",
   "execution_count": 13,
   "id": "0c69ae23-fe3b-44ce-b029-83b85dbebfdd",
   "metadata": {},
   "outputs": [
    {
     "name": "stdout",
     "output_type": "stream",
     "text": [
      "Uploaded nypdarrests.csv to Azure Blob Storage in container nypdarrests.\n"
     ]
    }
   ],
   "source": [
    "CONNECTION_STRING_AZURE_STORAGE = \"connectionString\"\n",
    "CONTAINER_AZURE = 'nypdarrests'\n",
    "blob_name = \"nypdarrests.csv\"\n",
    "\n",
    "output = StringIO()\n",
    "df_raw.to_csv(output, index=False)\n",
    "data = output.getvalue()\n",
    "output.close()\n",
    "\n",
    "blob_service_client = BlobServiceClient.from_connection_string(CONNECTION_STRING_AZURE_STORAGE)\n",
    "\n",
    "blob_client = blob_service_client.get_blob_client(container=CONTAINER_AZURE, blob=blob_name)\n",
    "\n",
    "blob_client.upload_blob(data, overwrite=True)\n",
    "\n",
    "print(f\"Uploaded {blob_name} to Azure Blob Storage in container {CONTAINER_AZURE}.\")"
   ]
  },
  {
   "cell_type": "code",
   "execution_count": null,
   "id": "65266830-43c5-4d0e-b043-d37907b6653b",
   "metadata": {},
   "outputs": [],
   "source": []
  }
 ],
 "metadata": {
  "kernelspec": {
   "display_name": "Python 3 (ipykernel)",
   "language": "python",
   "name": "python3"
  },
  "language_info": {
   "codemirror_mode": {
    "name": "ipython",
    "version": 3
   },
   "file_extension": ".py",
   "mimetype": "text/x-python",
   "name": "python",
   "nbconvert_exporter": "python",
   "pygments_lexer": "ipython3",
   "version": "3.11.7"
  }
 },
 "nbformat": 4,
 "nbformat_minor": 5
}
