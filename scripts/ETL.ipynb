{
 "cells": [
  {
   "cell_type": "code",
   "execution_count": 1,
   "id": "734e32a7-9712-49b7-91de-c87466143836",
   "metadata": {},
   "outputs": [],
   "source": [
    "#install packages\n",
    "import pandas as pd\n",
    "import numpy as np\n",
    "import json\n",
    "import requests\n",
    "from io import StringIO\n",
    "from azure.storage.blob import BlobServiceClient, BlobClient, ContainerClient\n",
    "from math import ceil\n",
    "import datetime\n",
    "import calendar\n",
    "from sqlalchemy import create_engine"
   ]
  },
  {
   "cell_type": "code",
   "execution_count": 2,
   "id": "b49be0d3-1df5-4075-a731-43dc99aafd97",
   "metadata": {},
   "outputs": [
    {
     "name": "stdout",
     "output_type": "stream",
     "text": [
      "nypdarrests.csv\n",
      "   ARREST_KEY ARREST_DATE  PD_CD                         PD_DESC  KY_CD  \\\n",
      "0   261265483  01/03/2023  397.0  ROBBERY,OPEN AREA UNCLASSIFIED  105.0   \n",
      "1   261271301  01/03/2023  105.0               STRANGULATION 1ST  106.0   \n",
      "2   261336449  01/04/2023  397.0  ROBBERY,OPEN AREA UNCLASSIFIED  105.0   \n",
      "3   261328047  01/04/2023  105.0               STRANGULATION 1ST  106.0   \n",
      "4   261417496  01/05/2023  244.0   BURGLARY,UNCLASSIFIED,UNKNOWN  107.0   \n",
      "\n",
      "        OFNS_DESC    LAW_CODE LAW_CAT_CD ARREST_BORO  ARREST_PRECINCT  \\\n",
      "0         ROBBERY  PL 1600500          F           B               49   \n",
      "1  FELONY ASSAULT  PL 1211200          F           S              120   \n",
      "2         ROBBERY  PL 1601001          F           K               61   \n",
      "3  FELONY ASSAULT  PL 1211200          F           Q              114   \n",
      "4        BURGLARY  PL 1402000          F           B               44   \n",
      "\n",
      "   JURISDICTION_CODE AGE_GROUP PERP_SEX PERP_RACE  X_COORD_CD  Y_COORD_CD  \\\n",
      "0                  0     18-24        M     BLACK     1027430      251104   \n",
      "1                  0     25-44        M     WHITE      962808      174275   \n",
      "2                  0       <18        M     BLACK      995118      155708   \n",
      "3                  0     18-24        M     BLACK     1007694      219656   \n",
      "4                  0     25-44        F     BLACK     1007174      239542   \n",
      "\n",
      "    Latitude  Longitude      New Georeferenced Column  \n",
      "0  40.855793 -73.843908  POINT (-73.843908 40.855793)  \n",
      "1  40.644996 -74.077263  POINT (-74.077263 40.644996)  \n",
      "2  40.594054 -73.960866  POINT (-73.960866 40.594054)  \n",
      "3  40.769552 -73.915361  POINT (-73.915361 40.769552)  \n",
      "4  40.824135 -73.917170   POINT (-73.91717 40.824135)  \n"
     ]
    }
   ],
   "source": [
    "# Print the configuration\n",
    "connection_string = \"connection_string\"\n",
    "\n",
    "# Set up connection string for Azure storage and container name\n",
    "connection_string_azure_storage = connection_string\n",
    "container_azure = 'nypdarrests'\n",
    "\n",
    "# Initialize the BlobServiceClient\n",
    "blob_service_client = BlobServiceClient.from_connection_string(connection_string_azure_storage)\n",
    "\n",
    "# Get the container client\n",
    "container_client = blob_service_client.get_container_client(container_azure)\n",
    "\n",
    "\n",
    "nypdarrests_df = pd.DataFrame()\n",
    "\n",
    "# List all blobs in the specified container\n",
    "blob_list = container_client.list_blobs()\n",
    "for blob in blob_list:\n",
    "    print(blob.name)\n",
    "    blob_client = container_client.get_blob_client(blob=blob.name)\n",
    "    blob_data = blob_client.download_blob()\n",
    "    blob_content = blob_data.readall().decode('utf-8')\n",
    "    df = pd.read_csv(StringIO(blob_content))\n",
    "    # Display the head of the DataFrame\n",
    "    print(df.head())\n",
    "    # If I have only one csv, I am doing the following instructions\n",
    "    nypdarrests_df = df.copy()"
   ]
  },
  {
   "cell_type": "code",
   "execution_count": 3,
   "id": "fed6829a-05bb-4719-be03-4aba16eaee6a",
   "metadata": {},
   "outputs": [
    {
     "name": "stdout",
     "output_type": "stream",
     "text": [
      "Null counts in the entire DataFrame:\n",
      "ARREST_KEY                     0\n",
      "ARREST_DATE                    0\n",
      "PD_CD                          2\n",
      "PD_DESC                        0\n",
      "KY_CD                         17\n",
      "OFNS_DESC                      0\n",
      "LAW_CODE                       0\n",
      "LAW_CAT_CD                  1599\n",
      "ARREST_BORO                    0\n",
      "ARREST_PRECINCT                0\n",
      "JURISDICTION_CODE              0\n",
      "AGE_GROUP                      0\n",
      "PERP_SEX                       0\n",
      "PERP_RACE                      0\n",
      "X_COORD_CD                     0\n",
      "Y_COORD_CD                     0\n",
      "Latitude                       0\n",
      "Longitude                      0\n",
      "New Georeferenced Column       0\n",
      "dtype: int64\n"
     ]
    }
   ],
   "source": [
    "# Check for null values in the entire DataFrame\n",
    "null_counts = nypdarrests_df.isnull().sum()\n",
    "\n",
    "# Display the null counts\n",
    "print(\"Null counts in the entire DataFrame:\")\n",
    "print(null_counts)\n"
   ]
  },
  {
   "cell_type": "code",
   "execution_count": 4,
   "id": "8fe4cd5d-5674-49fd-9d8a-64febcd4885e",
   "metadata": {},
   "outputs": [
    {
     "name": "stdout",
     "output_type": "stream",
     "text": [
      "Null counts after dropping rows with null values:\n",
      "ARREST_KEY                  0\n",
      "ARREST_DATE                 0\n",
      "PD_CD                       0\n",
      "PD_DESC                     0\n",
      "KY_CD                       0\n",
      "OFNS_DESC                   0\n",
      "LAW_CODE                    0\n",
      "LAW_CAT_CD                  0\n",
      "ARREST_BORO                 0\n",
      "ARREST_PRECINCT             0\n",
      "JURISDICTION_CODE           0\n",
      "AGE_GROUP                   0\n",
      "PERP_SEX                    0\n",
      "PERP_RACE                   0\n",
      "X_COORD_CD                  0\n",
      "Y_COORD_CD                  0\n",
      "Latitude                    0\n",
      "Longitude                   0\n",
      "New Georeferenced Column    0\n",
      "dtype: int64\n"
     ]
    }
   ],
   "source": [
    "# Drop rows with null values from the DataFrame\n",
    "nypdarrests_df.dropna(inplace=True)\n",
    "\n",
    "# Confirm that null values have been dropped\n",
    "print(\"Null counts after dropping rows with null values:\")\n",
    "print(nypdarrests_df.isnull().sum())\n"
   ]
  },
  {
   "cell_type": "code",
   "execution_count": 5,
   "id": "00d7a2dc-8428-4b89-84d6-140f2f546b70",
   "metadata": {},
   "outputs": [
    {
     "name": "stdout",
     "output_type": "stream",
     "text": [
      "01/01/2023\n",
      "12/31/2023\n"
     ]
    }
   ],
   "source": [
    "nypdarrests_df.head()\n",
    "min_date = nypdarrests_df['ARREST_DATE'].min()\n",
    "max_date = nypdarrests_df['ARREST_DATE'].max()\n",
    "\n",
    "print(min_date)\n",
    "print(max_date)"
   ]
  },
  {
   "cell_type": "code",
   "execution_count": 6,
   "id": "d9beb936-6b23-45a4-8031-33f964afdcdd",
   "metadata": {},
   "outputs": [
    {
     "name": "stdout",
     "output_type": "stream",
     "text": [
      "   arrest_id age_group perp_sex perp_race\n",
      "0  261265483     18-24        M     BLACK\n",
      "1  261271301     25-44        M     WHITE\n",
      "2  261336449       <18        M     BLACK\n",
      "3  261328047     18-24        M     BLACK\n",
      "4  261417496     25-44        F     BLACK\n"
     ]
    },
    {
     "name": "stderr",
     "output_type": "stream",
     "text": [
      "C:\\Users\\raisa\\AppData\\Local\\Temp\\ipykernel_21568\\3159256302.py:13: SettingWithCopyWarning: \n",
      "A value is trying to be set on a copy of a slice from a DataFrame\n",
      "\n",
      "See the caveats in the documentation: https://pandas.pydata.org/pandas-docs/stable/user_guide/indexing.html#returning-a-view-versus-a-copy\n",
      "  dim_perp_df.rename(columns=rename_mapping, inplace=True)\n",
      "C:\\Users\\raisa\\AppData\\Local\\Temp\\ipykernel_21568\\3159256302.py:16: SettingWithCopyWarning: \n",
      "A value is trying to be set on a copy of a slice from a DataFrame\n",
      "\n",
      "See the caveats in the documentation: https://pandas.pydata.org/pandas-docs/stable/user_guide/indexing.html#returning-a-view-versus-a-copy\n",
      "  dim_perp_df.dropna(inplace=True)\n"
     ]
    }
   ],
   "source": [
    "# Load your lookup DataFrame, assuming lookup_df is already defined and loaded\n",
    "dim_perp_df = nypdarrests_df[['ARREST_KEY', 'AGE_GROUP', 'PERP_SEX', 'PERP_RACE']]\n",
    "\n",
    "# Define a rename mapping to the desired column names\n",
    "rename_mapping = {\n",
    "    'ARREST_KEY': 'arrest_id',\n",
    "    'AGE_GROUP': 'age_group',\n",
    "    'PERP_SEX': 'perp_sex',\n",
    "    'PERP_RACE': 'perp_race',\n",
    "}\n",
    "\n",
    "# Rename the columns using the mapping\n",
    "dim_perp_df.rename(columns=rename_mapping, inplace=True)\n",
    "\n",
    "# Drop rows with missing values\n",
    "dim_perp_df.dropna(inplace=True)\n",
    "\n",
    "# Assign dim_perp_df to dim_perp\n",
    "dim_perp = dim_perp_df\n",
    "\n",
    "# Now, let's display the first few rows to confirm the changes\n",
    "print(dim_perp.head())\n"
   ]
  },
  {
   "cell_type": "code",
   "execution_count": 7,
   "id": "1bad43e1-e72b-4c15-a5c0-bfa427c53695",
   "metadata": {},
   "outputs": [
    {
     "name": "stdout",
     "output_type": "stream",
     "text": [
      "                    location_id arrest_boro  arrest_precinct  x_coord_cd  \\\n",
      "0  POINT (-73.843908 40.855793)           B               49     1027430   \n",
      "1  POINT (-74.077263 40.644996)           S              120      962808   \n",
      "2  POINT (-73.960866 40.594054)           K               61      995118   \n",
      "3  POINT (-73.915361 40.769552)           Q              114     1007694   \n",
      "4   POINT (-73.91717 40.824135)           B               44     1007174   \n",
      "\n",
      "   y_coord_cd   latitude  longitude  \n",
      "0      251104  40.855793 -73.843908  \n",
      "1      174275  40.644996 -74.077263  \n",
      "2      155708  40.594054 -73.960866  \n",
      "3      219656  40.769552 -73.915361  \n",
      "4      239542  40.824135 -73.917170  \n"
     ]
    },
    {
     "name": "stderr",
     "output_type": "stream",
     "text": [
      "C:\\Users\\raisa\\AppData\\Local\\Temp\\ipykernel_21568\\4109082177.py:16: SettingWithCopyWarning: \n",
      "A value is trying to be set on a copy of a slice from a DataFrame\n",
      "\n",
      "See the caveats in the documentation: https://pandas.pydata.org/pandas-docs/stable/user_guide/indexing.html#returning-a-view-versus-a-copy\n",
      "  dim_location_df.rename(columns=rename_mapping, inplace=True)\n",
      "C:\\Users\\raisa\\AppData\\Local\\Temp\\ipykernel_21568\\4109082177.py:19: SettingWithCopyWarning: \n",
      "A value is trying to be set on a copy of a slice from a DataFrame\n",
      "\n",
      "See the caveats in the documentation: https://pandas.pydata.org/pandas-docs/stable/user_guide/indexing.html#returning-a-view-versus-a-copy\n",
      "  dim_location_df.dropna(inplace=True)\n"
     ]
    }
   ],
   "source": [
    "# Load your lookup DataFrame, assuming lookup_df is already defined and loaded\n",
    "dim_location_df = nypdarrests_df[['New Georeferenced Column', 'ARREST_BORO', 'ARREST_PRECINCT', 'X_COORD_CD', 'Y_COORD_CD', 'Latitude', 'Longitude']]\n",
    "\n",
    "# Define a rename mapping to the desired column names\n",
    "rename_mapping = {\n",
    "    'New Georeferenced Column': 'location_id',\n",
    "    'ARREST_BORO': 'arrest_boro',\n",
    "    'ARREST_PRECINCT': 'arrest_precinct',\n",
    "    'X_COORD_CD': 'x_coord_cd',\n",
    "    'Y_COORD_CD': 'y_coord_cd',\n",
    "    'Latitude': 'latitude',\n",
    "    'Longitude': 'longitude'  \n",
    "}\n",
    "\n",
    "# Rename the columns using the mapping\n",
    "dim_location_df.rename(columns=rename_mapping, inplace=True)\n",
    "\n",
    "# Drop rows with missing values\n",
    "dim_location_df.dropna(inplace=True)\n",
    "\n",
    "# Assign dim_location_df to dim_location\n",
    "dim_location = dim_location_df\n",
    "\n",
    "# Now, let's display the first few rows to confirm the changes\n",
    "print(dim_location.head())\n"
   ]
  },
  {
   "cell_type": "code",
   "execution_count": 8,
   "id": "582f34cd-9f72-4094-af2d-584f35990c50",
   "metadata": {},
   "outputs": [
    {
     "name": "stdout",
     "output_type": "stream",
     "text": [
      "      date_id\n",
      "0  01/03/2023\n",
      "1  01/03/2023\n",
      "2  01/04/2023\n",
      "3  01/04/2023\n",
      "4  01/05/2023\n"
     ]
    },
    {
     "name": "stderr",
     "output_type": "stream",
     "text": [
      "C:\\Users\\raisa\\AppData\\Local\\Temp\\ipykernel_21568\\2520331667.py:11: SettingWithCopyWarning: \n",
      "A value is trying to be set on a copy of a slice from a DataFrame\n",
      "\n",
      "See the caveats in the documentation: https://pandas.pydata.org/pandas-docs/stable/user_guide/indexing.html#returning-a-view-versus-a-copy\n",
      "  dim_date_df.rename(columns=rename_mapping, inplace=True)\n",
      "C:\\Users\\raisa\\AppData\\Local\\Temp\\ipykernel_21568\\2520331667.py:14: SettingWithCopyWarning: \n",
      "A value is trying to be set on a copy of a slice from a DataFrame\n",
      "\n",
      "See the caveats in the documentation: https://pandas.pydata.org/pandas-docs/stable/user_guide/indexing.html#returning-a-view-versus-a-copy\n",
      "  dim_date_df.dropna(inplace=True)\n"
     ]
    }
   ],
   "source": [
    "# Load your lookup DataFrame, assuming lookup_df is already defined and loaded\n",
    "dim_date_df = nypdarrests_df[['ARREST_DATE']]\n",
    "\n",
    "# Define a rename mapping to the desired column names\n",
    "rename_mapping = {\n",
    "    'ARREST_DATE': 'date_id',\n",
    "    \n",
    "}\n",
    "\n",
    "# Rename the columns using the mapping\n",
    "dim_date_df.rename(columns=rename_mapping, inplace=True)\n",
    "\n",
    "# Drop rows with missing values\n",
    "dim_date_df.dropna(inplace=True)\n",
    "\n",
    "# Assign dim_location_df to dim_location\n",
    "dim_date = dim_date_df\n",
    "\n",
    "# Now, let's display the first few rows to confirm the changes\n",
    "print(dim_date.head())\n"
   ]
  },
  {
   "cell_type": "code",
   "execution_count": 9,
   "id": "2bfd22cb-adf8-4606-a8df-260c6a77701e",
   "metadata": {},
   "outputs": [
    {
     "name": "stdout",
     "output_type": "stream",
     "text": [
      "      date_id\n",
      "0  2023-01-03\n",
      "1  2023-01-03\n",
      "2  2023-01-03\n",
      "3  2023-01-03\n",
      "4  2023-01-03\n"
     ]
    }
   ],
   "source": [
    "import calendar\n",
    "\n",
    "def week_of_month(dt):\n",
    "    year = dt.year\n",
    "    month = dt.month\n",
    "    day = dt.day\n",
    "    cal = calendar.monthcalendar(year, month)\n",
    "    for i, week in enumerate(cal):\n",
    "        if day in week:\n",
    "            return i + 1\n",
    "\n",
    "start_date = pd.to_datetime('2023-01-03')\n",
    "end_date = pd.to_datetime('2023-10-18')\n",
    "\n",
    "# Create a DataFrame for the date dimension\n",
    "date_dimension = pd.DataFrame({'date': pd.date_range(start_date, end_date, freq='H')})\n",
    "\n",
    "# Extract attributes\n",
    "date_dimension['date_id'] = date_dimension['date'].dt.strftime('%Y-%m-%d')  # Adjusted for correct date format\n",
    "date_dimension['year'] = date_dimension['date'].dt.year\n",
    "date_dimension['quarter'] = date_dimension['date'].dt.quarter\n",
    "date_dimension['month'] = date_dimension['date'].dt.month\n",
    "date_dimension['day'] = date_dimension['date'].dt.day\n",
    "date_dimension['weekday'] = date_dimension['date'].dt.strftime('%A')\n",
    "\n",
    "# Set the new order for columns as per requirement\n",
    "new_order = ['date_id']\n",
    "date_dimension = date_dimension[new_order]\n",
    "\n",
    "\n",
    "print(date_dimension.head())\n"
   ]
  },
  {
   "cell_type": "code",
   "execution_count": 10,
   "id": "89378977-ba66-4ac5-bdef-aac1643951a7",
   "metadata": {},
   "outputs": [
    {
     "name": "stdout",
     "output_type": "stream",
     "text": [
      "   offenseType_id  jurisdiction_code    law_code\n",
      "0         ROBBERY                  0  PL 1600500\n",
      "1  FELONY ASSAULT                  0  PL 1211200\n",
      "2         ROBBERY                  0  PL 1601001\n",
      "3  FELONY ASSAULT                  0  PL 1211200\n",
      "4        BURGLARY                  0  PL 1402000\n"
     ]
    },
    {
     "name": "stderr",
     "output_type": "stream",
     "text": [
      "C:\\Users\\raisa\\AppData\\Local\\Temp\\ipykernel_21568\\2255089306.py:12: SettingWithCopyWarning: \n",
      "A value is trying to be set on a copy of a slice from a DataFrame\n",
      "\n",
      "See the caveats in the documentation: https://pandas.pydata.org/pandas-docs/stable/user_guide/indexing.html#returning-a-view-versus-a-copy\n",
      "  dim_offensetype_df.rename(columns=rename_mapping, inplace=True)\n",
      "C:\\Users\\raisa\\AppData\\Local\\Temp\\ipykernel_21568\\2255089306.py:15: SettingWithCopyWarning: \n",
      "A value is trying to be set on a copy of a slice from a DataFrame\n",
      "\n",
      "See the caveats in the documentation: https://pandas.pydata.org/pandas-docs/stable/user_guide/indexing.html#returning-a-view-versus-a-copy\n",
      "  dim_offensetype_df.dropna(inplace=True)\n"
     ]
    }
   ],
   "source": [
    "# Load your lookup DataFrame, assuming lookup_df is already defined and loaded\n",
    "dim_offensetype_df = nypdarrests_df[['OFNS_DESC', 'JURISDICTION_CODE', 'LAW_CODE']]\n",
    "\n",
    "# Define a rename mapping to the desired column names\n",
    "rename_mapping = {\n",
    "    'OFNS_DESC': 'offenseType_id',\n",
    "    'JURISDICTION_CODE': 'jurisdiction_code',\n",
    "    'LAW_CODE': 'law_code',   \n",
    "}\n",
    "\n",
    "# Rename the columns using the mapping\n",
    "dim_offensetype_df.rename(columns=rename_mapping, inplace=True)\n",
    "\n",
    "# Drop rows with missing values\n",
    "dim_offensetype_df.dropna(inplace=True)\n",
    "\n",
    "# Assign dim_offensetype_df to dim_offenseType\n",
    "dim_offenseType = dim_offensetype_df\n",
    "\n",
    "# Now, let's display the first few rows to confirm the changes\n",
    "print(dim_offenseType.head())\n"
   ]
  },
  {
   "cell_type": "code",
   "execution_count": 11,
   "id": "8f3a7c85-4f41-4687-90fb-23deac89bab5",
   "metadata": {},
   "outputs": [
    {
     "name": "stdout",
     "output_type": "stream",
     "text": [
      "   ARREST_KEY ARREST_DATE  PD_CD                         PD_DESC  KY_CD  \\\n",
      "0   261265483  01/03/2023  397.0  ROBBERY,OPEN AREA UNCLASSIFIED  105.0   \n",
      "1   261271301  01/03/2023  105.0               STRANGULATION 1ST  106.0   \n",
      "2   261336449  01/04/2023  397.0  ROBBERY,OPEN AREA UNCLASSIFIED  105.0   \n",
      "3   261328047  01/04/2023  105.0               STRANGULATION 1ST  106.0   \n",
      "4   261417496  01/05/2023  244.0   BURGLARY,UNCLASSIFIED,UNKNOWN  107.0   \n",
      "\n",
      "        OFNS_DESC    LAW_CODE LAW_CAT_CD ARREST_BORO  ARREST_PRECINCT  ...  \\\n",
      "0         ROBBERY  PL 1600500          F           B               49  ...   \n",
      "1  FELONY ASSAULT  PL 1211200          F           S              120  ...   \n",
      "2         ROBBERY  PL 1601001          F           K               61  ...   \n",
      "3  FELONY ASSAULT  PL 1211200          F           Q              114  ...   \n",
      "4        BURGLARY  PL 1402000          F           B               44  ...   \n",
      "\n",
      "   AGE_GROUP PERP_SEX PERP_RACE X_COORD_CD  Y_COORD_CD   Latitude  Longitude  \\\n",
      "0      18-24        M     BLACK    1027430      251104  40.855793 -73.843908   \n",
      "1      25-44        M     WHITE     962808      174275  40.644996 -74.077263   \n",
      "2        <18        M     BLACK     995118      155708  40.594054 -73.960866   \n",
      "3      18-24        M     BLACK    1007694      219656  40.769552 -73.915361   \n",
      "4      25-44        F     BLACK    1007174      239542  40.824135 -73.917170   \n",
      "\n",
      "       New Georeferenced Column mode_perpsex mode_perprace  \n",
      "0  POINT (-73.843908 40.855793)            M         BLACK  \n",
      "1  POINT (-74.077263 40.644996)            M         BLACK  \n",
      "2  POINT (-73.960866 40.594054)            M         BLACK  \n",
      "3  POINT (-73.915361 40.769552)            M         BLACK  \n",
      "4   POINT (-73.91717 40.824135)            M         BLACK  \n",
      "\n",
      "[5 rows x 21 columns]\n"
     ]
    }
   ],
   "source": [
    "import pandas as pd\n",
    "\n",
    "# Assuming nypdarrests_df is your DataFrame\n",
    "\n",
    "# Calculate mode for PERP_SEX and PERP_RACE\n",
    "mode_perpsex = nypdarrests_df['PERP_SEX'].mode()[0]\n",
    "mode_perprace = nypdarrests_df['PERP_RACE'].mode()[0]\n",
    "\n",
    "# Add new columns for mode of PERP_SEX and PERP_RACE\n",
    "nypdarrests_df['mode_perpsex'] = mode_perpsex\n",
    "nypdarrests_df['mode_perprace'] = mode_perprace\n",
    "\n",
    "# Print the updated DataFrame\n",
    "print(nypdarrests_df.head())\n"
   ]
  },
  {
   "cell_type": "code",
   "execution_count": 12,
   "id": "d1bc1b95-e34b-4d70-a2d7-59502a057838",
   "metadata": {},
   "outputs": [
    {
     "name": "stdout",
     "output_type": "stream",
     "text": [
      "Index(['facts_id', 'arrest_id', 'offenseType_id', 'mode_perpsex',\n",
      "       'mode_perprace', 'location_id', 'date_id'],\n",
      "      dtype='object')\n"
     ]
    },
    {
     "data": {
      "text/html": [
       "<div>\n",
       "<style scoped>\n",
       "    .dataframe tbody tr th:only-of-type {\n",
       "        vertical-align: middle;\n",
       "    }\n",
       "\n",
       "    .dataframe tbody tr th {\n",
       "        vertical-align: top;\n",
       "    }\n",
       "\n",
       "    .dataframe thead th {\n",
       "        text-align: right;\n",
       "    }\n",
       "</style>\n",
       "<table border=\"1\" class=\"dataframe\">\n",
       "  <thead>\n",
       "    <tr style=\"text-align: right;\">\n",
       "      <th></th>\n",
       "      <th>facts_id</th>\n",
       "      <th>arrest_id</th>\n",
       "      <th>offenseType_id</th>\n",
       "      <th>mode_perpsex</th>\n",
       "      <th>mode_perprace</th>\n",
       "      <th>location_id</th>\n",
       "      <th>date_id</th>\n",
       "    </tr>\n",
       "  </thead>\n",
       "  <tbody>\n",
       "    <tr>\n",
       "      <th>0</th>\n",
       "      <td>1</td>\n",
       "      <td>261265483</td>\n",
       "      <td>ROBBERY</td>\n",
       "      <td>M</td>\n",
       "      <td>BLACK</td>\n",
       "      <td>POINT (-73.843908 40.855793)</td>\n",
       "      <td>2023-01-03</td>\n",
       "    </tr>\n",
       "    <tr>\n",
       "      <th>1</th>\n",
       "      <td>2</td>\n",
       "      <td>261271301</td>\n",
       "      <td>FELONY ASSAULT</td>\n",
       "      <td>M</td>\n",
       "      <td>BLACK</td>\n",
       "      <td>POINT (-74.077263 40.644996)</td>\n",
       "      <td>2023-01-03</td>\n",
       "    </tr>\n",
       "    <tr>\n",
       "      <th>2</th>\n",
       "      <td>3</td>\n",
       "      <td>261336449</td>\n",
       "      <td>ROBBERY</td>\n",
       "      <td>M</td>\n",
       "      <td>BLACK</td>\n",
       "      <td>POINT (-73.960866 40.594054)</td>\n",
       "      <td>2023-01-03</td>\n",
       "    </tr>\n",
       "    <tr>\n",
       "      <th>3</th>\n",
       "      <td>4</td>\n",
       "      <td>261328047</td>\n",
       "      <td>FELONY ASSAULT</td>\n",
       "      <td>M</td>\n",
       "      <td>BLACK</td>\n",
       "      <td>POINT (-73.915361 40.769552)</td>\n",
       "      <td>2023-01-03</td>\n",
       "    </tr>\n",
       "    <tr>\n",
       "      <th>4</th>\n",
       "      <td>5</td>\n",
       "      <td>261417496</td>\n",
       "      <td>BURGLARY</td>\n",
       "      <td>M</td>\n",
       "      <td>BLACK</td>\n",
       "      <td>POINT (-73.91717 40.824135)</td>\n",
       "      <td>2023-01-03</td>\n",
       "    </tr>\n",
       "  </tbody>\n",
       "</table>\n",
       "</div>"
      ],
      "text/plain": [
       "   facts_id  arrest_id  offenseType_id mode_perpsex mode_perprace  \\\n",
       "0         1  261265483         ROBBERY            M         BLACK   \n",
       "1         2  261271301  FELONY ASSAULT            M         BLACK   \n",
       "2         3  261336449         ROBBERY            M         BLACK   \n",
       "3         4  261328047  FELONY ASSAULT            M         BLACK   \n",
       "4         5  261417496        BURGLARY            M         BLACK   \n",
       "\n",
       "                    location_id     date_id  \n",
       "0  POINT (-73.843908 40.855793)  2023-01-03  \n",
       "1  POINT (-74.077263 40.644996)  2023-01-03  \n",
       "2  POINT (-73.960866 40.594054)  2023-01-03  \n",
       "3  POINT (-73.915361 40.769552)  2023-01-03  \n",
       "4   POINT (-73.91717 40.824135)  2023-01-03  "
      ]
     },
     "execution_count": 12,
     "metadata": {},
     "output_type": "execute_result"
    }
   ],
   "source": [
    "# Create FactID column\n",
    "nypdarrests_df['facts_id'] = range(1, len(nypdarrests_df) + 1)\n",
    "nypdarrests_df['ARREST_DATE'] = date_dimension\n",
    "\n",
    "# Rename columns\n",
    "new_column_names = {\n",
    "    'facts_id': 'facts_id',\n",
    "    'ARREST_KEY': 'arrest_id',\n",
    "    'OFNS_DESC': 'offenseType_id',\n",
    "    'mode_perpsex': 'mode_perpsex',\n",
    "    'mode_perprace': 'mode_perprace',\n",
    "    'New Georeferenced Column': 'location_id',\n",
    "    'ARREST_DATE': 'date_id',\n",
    "    \n",
    "    \n",
    "    \n",
    "}\n",
    "\n",
    "nypdarrests_df = nypdarrests_df.rename(columns=new_column_names)\n",
    "\n",
    "# Define the columns\n",
    "required_columns = ['facts_id', 'arrest_id', 'offenseType_id', 'mode_perpsex','mode_perprace','location_id','date_id']\n",
    "\n",
    "nypdarrests = nypdarrests_df[required_columns]\n",
    "\n",
    "print(nypdarrests.columns) \n",
    "\n",
    "# Display the DataFrame\n",
    "nypdarrests.head()"
   ]
  },
  {
   "cell_type": "code",
   "execution_count": 13,
   "id": "55568b3d-1a8b-4c71-a7ce-c89766fd6735",
   "metadata": {},
   "outputs": [
    {
     "name": "stdout",
     "output_type": "stream",
     "text": [
      "dim_perp.csv created successfully.\n",
      "dim_location.csv created successfully.\n",
      "dim_offenseType.csv created successfully.\n"
     ]
    }
   ],
   "source": [
    "# Assuming dim_perp, dim_location, dim_offenseType are your dimension DataFrames\n",
    "\n",
    "# Convert dim_perp to CSV\n",
    "try:\n",
    "    dim_perp.to_csv('dim_perp.csv', index=False)\n",
    "    print(\"dim_perp.csv created successfully.\")\n",
    "except Exception as e:\n",
    "    print(\"Error occurred while creating dim_perp.csv:\", str(e))\n",
    "\n",
    "# Convert dim_location to CSV\n",
    "try:\n",
    "    dim_location.to_csv('dim_location.csv', index=False)\n",
    "    print(\"dim_location.csv created successfully.\")\n",
    "except Exception as e:\n",
    "    print(\"Error occurred while creating dim_location.csv:\", str(e))\n",
    "\n",
    "# Convert dim_offenseType to CSV\n",
    "try:\n",
    "    dim_offenseType.to_csv('dim_offenseType.csv', index=False)\n",
    "    print(\"dim_offenseType.csv created successfully.\")\n",
    "except Exception as e:\n",
    "    print(\"Error occurred while creating dim_offenseType.csv:\", str(e))\n"
   ]
  },
  {
   "cell_type": "code",
   "execution_count": 14,
   "id": "fd21cdbe-129b-4b07-870c-813a63a338ac",
   "metadata": {},
   "outputs": [
    {
     "name": "stdout",
     "output_type": "stream",
     "text": [
      "nypdarrests.csv created successfully.\n",
      "date.csv created successfully.\n"
     ]
    }
   ],
   "source": [
    "# Assuming nypdarrests_df is your DataFrame for 'nypdarrests' dimension\n",
    "# and date_df is your DataFrame for 'date' dimension\n",
    "\n",
    "# Convert nypdarrests_df to CSV\n",
    "try:\n",
    "    nypdarrests_df.to_csv('nypdarrests.csv', index=False)\n",
    "    print(\"nypdarrests.csv created successfully.\")\n",
    "except Exception as e:\n",
    "    print(\"Error occurred while creating nypdarrests.csv:\", str(e))\n",
    "\n",
    "# Convert date_df to CSV\n",
    "try:\n",
    "    date_dimension.to_csv('date.csv', index=False)\n",
    "    print(\"date.csv created successfully.\")\n",
    "except Exception as e:\n",
    "    print(\"Error occurred while creating date.csv:\", str(e))\n"
   ]
  },
  {
   "cell_type": "code",
   "execution_count": null,
   "id": "8fcba5de-4665-4aad-be6a-2a715aec2c78",
   "metadata": {},
   "outputs": [],
   "source": []
  }
 ],
 "metadata": {
  "kernelspec": {
   "display_name": "Python 3 (ipykernel)",
   "language": "python",
   "name": "python3"
  },
  "language_info": {
   "codemirror_mode": {
    "name": "ipython",
    "version": 3
   },
   "file_extension": ".py",
   "mimetype": "text/x-python",
   "name": "python",
   "nbconvert_exporter": "python",
   "pygments_lexer": "ipython3",
   "version": "3.11.7"
  }
 },
 "nbformat": 4,
 "nbformat_minor": 5
}
